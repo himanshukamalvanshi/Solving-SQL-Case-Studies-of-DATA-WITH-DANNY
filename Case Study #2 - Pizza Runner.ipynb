{
 "cells": [
  {
   "cell_type": "markdown",
   "id": "73b83842",
   "metadata": {},
   "source": [
    "# Introduction"
   ]
  },
  {
   "cell_type": "markdown",
   "id": "563d56b9",
   "metadata": {},
   "source": [
    "Did you know that over 115 million kilograms of pizza is consumed daily worldwide??? (Well according to Wikipedia anyway…)\n",
    "\n",
    "Danny was scrolling through his Instagram feed when something really caught his eye - “80s Retro Styling and Pizza Is The Future!”\n",
    "\n",
    "Danny was sold on the idea, but he knew that pizza alone was not going to help him get seed funding to expand his new Pizza Empire - so he had one more genius idea to combine with it - he was going to Uberize it - and so Pizza Runner was launched!\n",
    "\n",
    "Danny started by recruiting “runners” to deliver fresh pizza from Pizza Runner Headquarters (otherwise known as Danny’s house) and also maxed out his credit card to pay freelance developers to build a mobile app to accept orders from customers."
   ]
  },
  {
   "cell_type": "markdown",
   "id": "356e73d9",
   "metadata": {},
   "source": [
    "# Available Data"
   ]
  },
  {
   "cell_type": "markdown",
   "id": "56eb87b2",
   "metadata": {},
   "source": [
    "Because Danny had a few years of experience as a data scientist - he was very aware that data collection was going to be critical for his business’ growth.\n",
    "\n",
    "He has prepared for us an entity relationship diagram of his database design but requires further assistance to clean his data and apply some basic calculations so he can better direct his runners and optimise Pizza Runner’s operations.\n",
    "\n",
    "All datasets exist within the pizza_runner database schema - be sure to include this reference within your SQL scripts as you start exploring the data and answering the case study questions."
   ]
  },
  {
   "cell_type": "markdown",
   "id": "8929f2e4",
   "metadata": {},
   "source": [
    "# Table 1: runners"
   ]
  },
  {
   "cell_type": "markdown",
   "id": "7642a9a6",
   "metadata": {},
   "source": [
    "The runners table shows the registration_date for each new runner\n",
    "\n",
    "| runner_id | registration_date |\n",
    "|-----------|-------------------|\n",
    "| 1         | 2021-01-01        |\n",
    "| 2         | 2021-01-03        |\n",
    "| 3         | 2021-01-08        |\n",
    "| 4         | 2021-01-15        |\n"
   ]
  },
  {
   "cell_type": "markdown",
   "id": "fa98f6ff",
   "metadata": {},
   "source": [
    "# Table 2: customer_orders"
   ]
  },
  {
   "cell_type": "markdown",
   "id": "ac2321ee",
   "metadata": {},
   "source": [
    "Customer pizza orders are captured in the customer_orders table with 1 row for each individual pizza that is part of the order.\n",
    "\n",
    "The pizza_id relates to the type of pizza which was ordered whilst the exclusions are the ingredient_id values which should be removed from the pizza and the extras are the ingredient_id values which need to be added to the pizza.\n",
    "\n",
    "Note that customers can order multiple pizzas in a single order with varying exclusions and extras values even if the pizza is the same type!\n",
    "\n",
    "The exclusions and extras columns will need to be cleaned up before using them in your queries.\n",
    "\n",
    "| order_id | customer_id | pizza_id | exclusions | extras | order_time          |\n",
    "|----------|-------------|----------|------------|--------|---------------------|\n",
    "| 1        | 101         | 1        |            |        | 2021-01-01 18:05:02 |\n",
    "| 2        | 101         | 1        |            |        | 2021-01-01 19:00:52 |\n",
    "| 3        | 102         | 1        |            |        | 2021-01-02 23:51:23 |\n",
    "| 3        | 102         | 2        | NaN        |        | 2021-01-02 23:51:23 |\n",
    "| 4        | 103         | 1        | 4          |        | 2021-01-04 13:23:46 |\n",
    "| 4        | 103         | 1        | 4          |        | 2021-01-04 13:23:46 |\n",
    "| 4        | 103         | 2        | 4          |        | 2021-01-04 13:23:46 |\n",
    "| 5        | 104         | 1        | null       | 1      | 2021-01-08 21:00:29 |\n",
    "| 6        | 101         | 2        | null       | null   | 2021-01-08 21:03:13 |\n",
    "| 7        | 105         | 2        | null       | 1      | 2021-01-08 21:20:29 |\n",
    "| 8        | 102         | 1        | null       | null   | 2021-01-09 23:54:33 |\n",
    "| 9        | 103         | 1        | 4          | 1, 5   | 2021-01-10 11:22:59 |\n",
    "| 10       | 104         | 1        | null       | null   | 2021-01-11 18:34:49 |\n",
    "| 10       | 104         | 1        | 2, 6       | 1, 4   | 2021-01-11 18:34:49 |\n"
   ]
  },
  {
   "cell_type": "markdown",
   "id": "a3248eea",
   "metadata": {},
   "source": [
    "# Table 3: runner_orders"
   ]
  },
  {
   "cell_type": "markdown",
   "id": "5288d564",
   "metadata": {},
   "source": [
    "After each orders are received through the system - they are assigned to a runner - however not all orders are fully completed and can be cancelled by the restaurant or the customer.\n",
    "\n",
    "The pickup_time is the timestamp at which the runner arrives at the Pizza Runner headquarters to pick up the freshly cooked pizzas. The distance and duration fields are related to how far and long the runner had to travel to deliver the order to the respective customer.\n",
    "\n",
    "There are some known data issues with this table so be careful when using this in your queries - make sure to check the data types for each column in the schema SQL!\n",
    "\n",
    "\n",
    "| order_id | runner_id | pickup_time         | distance | duration | cancellation         |\n",
    "|----------|-----------|---------------------|----------|----------|----------------------|\n",
    "| 1        | 1         | 2021-01-01 18:15:34 | 20km     | 32 mins  |                      |\n",
    "| 2        | 1         | 2021-01-01 19:10:54 | 20km     | 27 mins  |                      |\n",
    "| 3        | 1         | 2021-01-03 00:12:37 | 13.4km   | 20 mins  | NaN                  |\n",
    "| 4        | 2         | 2021-01-04 13:53:03 | 23.4 km  | 40 mins  | NaN                  |\n",
    "| 5        | 3         | 2021-01-08 21:10:57 | 10 km    | 15 mins  | NaN                  |\n",
    "| 6        | 3         | null                | null     | null     | Restaurant Cancellation |\n",
    "| 7        | 2         | 2020-01-08 21:30:45 | 25 km    | 25 mins  |                      |\n",
    "| 8        | 2         | 2020-01-10 00:15:02 | 23.4 km  | 15 mins  |                      |\n",
    "| 9        | 2         | null                | null     | null     | Customer Cancellation |\n",
    "| 10       | 1         | 2020-01-11 18:50:20 | 10 km    | 10 mins  |                      |\n"
   ]
  },
  {
   "cell_type": "markdown",
   "id": "516299e5",
   "metadata": {},
   "source": [
    "# Table 4: pizza_names"
   ]
  },
  {
   "cell_type": "markdown",
   "id": "2dab8b2e",
   "metadata": {},
   "source": [
    "At the moment - Pizza Runner only has 2 pizzas available the Meat Lovers or Vegetarian!\n",
    "\n",
    "| pizza_id | pizza_name   |\n",
    "|----------|--------------|\n",
    "| 1        | Meat Lovers  |\n",
    "| 2        | Vegetarian   |\n"
   ]
  },
  {
   "cell_type": "markdown",
   "id": "fcf82d0d",
   "metadata": {},
   "source": [
    "\n",
    "# Table 5: pizza_recipes"
   ]
  },
  {
   "cell_type": "markdown",
   "id": "a535a5d7",
   "metadata": {},
   "source": [
    "Each pizza_id has a standard set of toppings which are used as part of the pizza recipe.\n",
    "\n",
    "| pizza_id | toppings                |\n",
    "|----------|-------------------------|\n",
    "| 1        | 1, 2, 3, 4, 5, 6, 8, 10 |\n",
    "| 2        | 4, 6, 7, 9, 11, 12      |\n"
   ]
  },
  {
   "cell_type": "markdown",
   "id": "c8ccaa4c",
   "metadata": {},
   "source": [
    "# Table 6: pizza_toppings"
   ]
  },
  {
   "cell_type": "markdown",
   "id": "43dcc1f4",
   "metadata": {},
   "source": [
    "This table contains all of the topping_name values with their corresponding topping_id value\n",
    "| topping_id | topping_name |\n",
    "|------------|--------------|\n",
    "| 1          | Bacon        |\n",
    "| 2          | BBQ Sauce    |\n",
    "| 3          | Beef         |\n",
    "| 4          | Cheese       |\n",
    "| 5          | Chicken      |\n",
    "| 6          | Mushrooms    |\n",
    "| 7          | Onions       |\n",
    "| 8          | Pepperoni    |\n",
    "| 9          | Peppers      |\n",
    "| 10         | Salami       |\n",
    "| 11         | Tomatoes     |\n",
    "| 12         | Tomato Sauce |\n"
   ]
  },
  {
   "cell_type": "markdown",
   "id": "5b9eb4d3",
   "metadata": {},
   "source": [
    "## Importing the Database in MySQL"
   ]
  },
  {
   "cell_type": "code",
   "execution_count": 2,
   "id": "f8de0873",
   "metadata": {},
   "outputs": [],
   "source": [
    "import mysql.connector\n",
    "from mysql.connector import errorcode"
   ]
  },
  {
   "cell_type": "code",
   "execution_count": 3,
   "id": "7560212c",
   "metadata": {},
   "outputs": [
    {
     "name": "stdout",
     "output_type": "stream",
     "text": [
      "Requirement already satisfied: mysql-connector-python in c:\\users\\kamal\\anaconda3\\lib\\site-packages (8.0.33)\n",
      "Requirement already satisfied: protobuf<=3.20.3,>=3.11.0 in c:\\users\\kamal\\anaconda3\\lib\\site-packages (from mysql-connector-python) (3.20.3)\n",
      "Note: you may need to restart the kernel to use updated packages.\n"
     ]
    }
   ],
   "source": [
    "pip install mysql-connector-python"
   ]
  },
  {
   "cell_type": "code",
   "execution_count": 8,
   "id": "13f53724",
   "metadata": {},
   "outputs": [],
   "source": [
    "mydb= mysql.connector.connect(host='localhost',user=\"root\", password=\"Abcd@1234\")\n",
    "cursor=mydb.cursor()"
   ]
  },
  {
   "cell_type": "code",
   "execution_count": 9,
   "id": "615a3db6",
   "metadata": {},
   "outputs": [
    {
     "name": "stdout",
     "output_type": "stream",
     "text": [
      "yes\n"
     ]
    }
   ],
   "source": [
    "if mydb.is_connected():\n",
    "    print('yes')"
   ]
  },
  {
   "cell_type": "code",
   "execution_count": 10,
   "id": "dd873101",
   "metadata": {},
   "outputs": [],
   "source": [
    "  # Create Database\n",
    "query ='''CREATE SCHEMA pizza_runner;\n",
    "USE pizza_runner;\n",
    "\n",
    "DROP TABLE IF EXISTS runners;\n",
    "CREATE TABLE runners (\n",
    "  runner_id INT,\n",
    "  registration_date DATE\n",
    ");\n",
    "\n",
    "INSERT INTO runners (runner_id, registration_date)\n",
    "VALUES\n",
    "  (1, '2021-01-01'),\n",
    "  (2, '2021-01-03'),\n",
    "  (3, '2021-01-08'),\n",
    "  (4, '2021-01-15');\n",
    "\n",
    "DROP TABLE IF EXISTS customer_orders;\n",
    "CREATE TABLE customer_orders (\n",
    "  order_id INT,\n",
    "  customer_id INT,\n",
    "  pizza_id INT,\n",
    "  exclusions VARCHAR(4),\n",
    "  extras VARCHAR(4),\n",
    "  order_time TIMESTAMP\n",
    ");\n",
    "\n",
    "INSERT INTO customer_orders (order_id, customer_id, pizza_id, exclusions, extras, order_time)\n",
    "VALUES\n",
    "  (1, 101, 1, '', '', '2021-01-01 18:05:02'),\n",
    "  (2, 101, 1, '', '', '2021-01-01 19:00:52'),\n",
    "  (3, 102, 1, '', '', '2021-01-02 23:51:23'),\n",
    "  (3, 102, 2, 'NaN', NULL, '2021-01-02 23:51:23'),\n",
    "  (4, 103, 1, '4', '', '2021-01-04 13:23:46'),\n",
    "  (4, 103, 1, '4', '', '2021-01-04 13:23:46'),\n",
    "  (4, 103, 2, '4', '', '2021-01-04 13:23:46'),\n",
    "  (5, 104, 1, NULL, '1', '2021-01-08 21:00:29'),\n",
    "  (6, 101, 2, NULL, NULL, '2021-01-08 21:03:13'),\n",
    "  (7, 105, 2, NULL, '1', '2021-01-08 21:20:29'),\n",
    "  (8, 102, 1, NULL, NULL, '2021-01-09 23:54:33'),\n",
    "  (9, 103, 1, '4', '1, 5', '2021-01-10 11:22:59'),\n",
    "  (10, 104, 1, NULL, NULL, '2021-01-11 18:34:49'),\n",
    "  (10, 104, 1, '2, 6', '1, 4', '2021-01-11 18:34:49');\n",
    "\n",
    "DROP TABLE IF EXISTS runner_orders;\n",
    "CREATE TABLE runner_orders (\n",
    "  order_id INT,\n",
    "  runner_id INT,\n",
    "  pickup_time VARCHAR(19),\n",
    "  distance VARCHAR(7),\n",
    "  duration VARCHAR(10),\n",
    "  cancellation VARCHAR(23)\n",
    ");\n",
    "\n",
    "INSERT INTO runner_orders (order_id, runner_id, pickup_time, distance, duration, cancellation)\n",
    "VALUES\n",
    "  (1, 1, '2021-01-01 18:15:34', '20km', '32 minutes', ''),\n",
    "  (2, 1, '2021-01-01 19:10:54', '20km', '27 minutes', ''),\n",
    "  (3, 1, '2021-01-03 00:12:37', '13.4km', '20 mins', NULL),\n",
    "  (4, 2, '2021-01-04 13:53:03', '23.4', '40', NULL),\n",
    "  (5, 3, '2021-01-08 21:10:57', '10', '15', NULL),\n",
    "  (6, 3, NULL, NULL, NULL, 'Restaurant Cancellation'),\n",
    "  (7, 2, '2020-01-08 21:30:45', '25km', '25mins', 'null'),\n",
    "  (8, 2, '2020-01-10 00:15:02', '23.4 km', '15 minute', 'null'),\n",
    "  (9, 2, NULL, NULL, NULL, 'Customer Cancellation'),\n",
    "  (10, 1, '2020-01-11 18:50:20', '10km', '10minutes', 'null');\n",
    "\n",
    "DROP TABLE IF EXISTS pizza_names;\n",
    "CREATE TABLE pizza_names (\n",
    "  pizza_id INT,\n",
    "  pizza_name TEXT\n",
    ");\n",
    "\n",
    "INSERT INTO pizza_names (pizza_id, pizza_name)\n",
    "VALUES\n",
    "  (1, 'Meat Lovers'),\n",
    "  (2, 'Vegetarian');\n",
    "\n",
    "DROP TABLE IF EXISTS pizza_recipes;\n",
    "CREATE TABLE pizza_recipes (\n",
    "  pizza_id INT,\n",
    "  toppings TEXT\n",
    ");\n",
    "\n",
    "INSERT INTO pizza_recipes (pizza_id, toppings)\n",
    "VALUES\n",
    "  (1, '1, 2, 3, 4, 5, 6, 8, 10'),\n",
    "  (2, '4, 6, 7, 9, 11, 12');\n",
    "\n",
    "DROP TABLE IF EXISTS pizza_toppings;\n",
    "CREATE TABLE pizza_toppings (\n",
    "  topping_id INT,\n",
    "  topping_name TEXT\n",
    ");\n",
    "\n",
    "INSERT INTO pizza_toppings (topping_id, topping_name)\n",
    "VALUES\n",
    "  (1, 'Bacon'),\n",
    "  (2, 'BBQ Sauce'),\n",
    "  (3, 'Beef'),\n",
    "  (4, 'Cheese'),\n",
    "  (5, 'Chicken'),\n",
    "  (6, 'Mushrooms'),\n",
    "  (7, 'Onions'),\n",
    "  (8, 'Pepperoni'),\n",
    "  (9, 'Peppers'),\n",
    "  (10, 'Salami'),\n",
    "  (11, 'Tomatoes'),\n",
    "  (12, 'Tomato Sauce');\n",
    "'''\n",
    "cursor.execute(query)\n",
    "cursor.close()\n",
    "mydb.close()"
   ]
  },
  {
   "cell_type": "markdown",
   "id": "bd13212a",
   "metadata": {},
   "source": [
    "# CASE STUDY PROBLEMS"
   ]
  },
  {
   "cell_type": "markdown",
   "id": "c0149b84",
   "metadata": {},
   "source": [
    "This case study has LOTS of questions - they are broken up by area of focus including:\n",
    "\n",
    "* **Pizza Metrics**\n",
    "* **Runner and Customer Experience**\n",
    "* **Ingredient Optimisation**\n",
    "* **Pricing and Ratings**\n",
    "\n"
   ]
  },
  {
   "cell_type": "code",
   "execution_count": 11,
   "id": "3077f7d2",
   "metadata": {},
   "outputs": [],
   "source": [
    "if mydb.is_connected():\n",
    "    print('yes')\n",
    "else:\n",
    "    mydb= mysql.connector.connect(host='localhost',user=\"root\", password=\"Abcd@1234\")\n",
    "    cursor=mydb.cursor()"
   ]
  },
  {
   "cell_type": "code",
   "execution_count": 13,
   "id": "25135b5e",
   "metadata": {},
   "outputs": [],
   "source": [
    "cursor.execute(\"USE pizza_runner\")\n"
   ]
  },
  {
   "cell_type": "markdown",
   "id": "19f72466",
   "metadata": {},
   "source": [
    "## A. Pizza Metrics"
   ]
  },
  {
   "cell_type": "markdown",
   "id": "0c5dacde",
   "metadata": {},
   "source": [
    "**1. How many pizzas were ordered?**"
   ]
  },
  {
   "cell_type": "code",
   "execution_count": 16,
   "id": "2670848d",
   "metadata": {},
   "outputs": [
    {
     "name": "stdout",
     "output_type": "stream",
     "text": [
      "[(14,)]\n"
     ]
    }
   ],
   "source": [
    "cursor.execute('''SELECT COUNT(*) AS total_pizzas_ordered\n",
    "FROM customer_orders;\n",
    "''')\n",
    "results = cursor.fetchall()\n",
    "print(result)    \n"
   ]
  },
  {
   "cell_type": "markdown",
   "id": "72b3cf79",
   "metadata": {},
   "source": [
    "**2. How many unique customer orders were made?**"
   ]
  },
  {
   "cell_type": "code",
   "execution_count": 17,
   "id": "d1dbd910",
   "metadata": {},
   "outputs": [
    {
     "name": "stdout",
     "output_type": "stream",
     "text": [
      "[(10,)]\n"
     ]
    }
   ],
   "source": [
    "cursor.execute('''SELECT COUNT(DISTINCT order_id) AS unique_customer_orders\n",
    "FROM customer_orders;\n",
    "''')\n",
    "results = cursor.fetchall()\n",
    "print(results)    \n"
   ]
  },
  {
   "cell_type": "markdown",
   "id": "756c417d",
   "metadata": {},
   "source": [
    "**3. How many successful orders were delivered by each runner?**"
   ]
  },
  {
   "cell_type": "code",
   "execution_count": 19,
   "id": "0bcde6e6",
   "metadata": {},
   "outputs": [
    {
     "name": "stdout",
     "output_type": "stream",
     "text": [
      "(1, 1)\n",
      "(2, 1)\n",
      "(3, 1)\n"
     ]
    }
   ],
   "source": [
    "cursor.execute('''SELECT runner_id, COUNT(*) AS successful_orders\n",
    "FROM runner_orders\n",
    "WHERE cancellation IS NULL\n",
    "GROUP BY runner_id;\n",
    "''')\n",
    "results = cursor.fetchall()\n",
    "for row in results:\n",
    "    print(row)  \n"
   ]
  },
  {
   "cell_type": "markdown",
   "id": "0cb9174d",
   "metadata": {},
   "source": [
    "**4. How many of each type of pizza was delivered?**"
   ]
  },
  {
   "cell_type": "code",
   "execution_count": 21,
   "id": "51f63d62",
   "metadata": {},
   "outputs": [
    {
     "name": "stdout",
     "output_type": "stream",
     "text": [
      "(1, 'Meat Lovers', 10)\n",
      "(2, 'Vegetarian', 4)\n"
     ]
    }
   ],
   "source": [
    "cursor.execute('''SELECT\n",
    "   c.pizza_id,\n",
    "    pizza_name,\n",
    "    COUNT(*) AS total_delivered\n",
    "FROM\n",
    "    customer_orders c\n",
    "JOIN\n",
    "    pizza_names p ON c.pizza_id = p.pizza_id\n",
    "GROUP BY\n",
    "   c.pizza_id, pizza_name;\n",
    "''')\n",
    "results = cursor.fetchall()\n",
    "for row in results:\n",
    "    print(row)  \n"
   ]
  },
  {
   "cell_type": "markdown",
   "id": "396284ee",
   "metadata": {},
   "source": [
    "**5. How many Vegetarian and Meatlovers were ordered by each customer?**"
   ]
  },
  {
   "cell_type": "code",
   "execution_count": 25,
   "id": "c46f129f",
   "metadata": {},
   "outputs": [
    {
     "name": "stdout",
     "output_type": "stream",
     "text": [
      "101 1 2\n",
      "102 1 2\n",
      "103 1 3\n",
      "104 0 3\n",
      "105 1 0\n"
     ]
    }
   ],
   "source": [
    "cursor.execute('''SELECT\n",
    "    customer_id,\n",
    "    SUM(CASE WHEN pizza_name = 'Vegetarian' THEN 1 ELSE 0 END) AS vegetarian_orders,\n",
    "    SUM(CASE WHEN pizza_name = 'Meat Lovers' THEN 1 ELSE 0 END) AS meat_lovers_orders\n",
    "FROM\n",
    "    customer_orders\n",
    "JOIN\n",
    "    pizza_names ON customer_orders.pizza_id = pizza_names.pizza_id\n",
    "GROUP BY\n",
    "    customer_id;\n",
    "''')\n",
    "results = cursor.fetchall()\n",
    "for row in results:\n",
    "    customer_id, vegetarian_orders, meat_lovers_orders=row\n",
    "    vegetarian_orders=int(vegetarian_orders)\n",
    "    meat_lovers_orders=int( meat_lovers_orders)\n",
    "    print(customer_id ,vegetarian_orders,meat_lovers_orders)  "
   ]
  },
  {
   "cell_type": "markdown",
   "id": "f09eeb62",
   "metadata": {},
   "source": [
    "**6.What was the maximum number of pizzas delivered in a single order?**"
   ]
  },
  {
   "cell_type": "code",
   "execution_count": 26,
   "id": "1d2a1305",
   "metadata": {},
   "outputs": [
    {
     "name": "stdout",
     "output_type": "stream",
     "text": [
      "(3,)\n"
     ]
    }
   ],
   "source": [
    "cursor.execute('''SELECT MAX(pizza_count) AS max_pizzas_in_order\n",
    "FROM (\n",
    "    SELECT order_id, COUNT(*) AS pizza_count\n",
    "    FROM customer_orders\n",
    "    GROUP BY order_id\n",
    ") AS pizza_counts;\n",
    "''')\n",
    "results = cursor.fetchall()\n",
    "for row in results:\n",
    "    print(row)"
   ]
  },
  {
   "cell_type": "markdown",
   "id": "cb74e10b",
   "metadata": {},
   "source": [
    "**7. For each customer, how many delivered pizzas had at least 1 change and how many had no changes?**"
   ]
  },
  {
   "cell_type": "code",
   "execution_count": 28,
   "id": "d5180427",
   "metadata": {},
   "outputs": [
    {
     "name": "stdout",
     "output_type": "stream",
     "text": [
      "101 2 1\n",
      "102 2 1\n",
      "103 4 0\n",
      "104 2 1\n",
      "105 1 0\n"
     ]
    }
   ],
   "source": [
    "cursor.execute('''SELECT\n",
    "    co.customer_id,\n",
    "    SUM(CASE WHEN co.exclusions IS NOT NULL OR co.extras IS NOT NULL THEN 1 ELSE 0 END) AS changed_pizzas,\n",
    "    SUM(CASE WHEN co.exclusions IS NULL AND co.extras IS NULL THEN 1 ELSE 0 END) AS unchanged_pizzas\n",
    "FROM customer_orders co\n",
    "GROUP BY co.customer_id;\n",
    "''')\n",
    "results = cursor.fetchall()\n",
    "for row in results:\n",
    "    customer_id, changed_pizzas, unchanged_pizzas=row\n",
    "    changed_pizzas=int(changed_pizzas)\n",
    "    unchanged_pizzas=int( unchanged_pizzas)\n",
    "    print(customer_id ,changed_pizzas,unchanged_pizzas) "
   ]
  },
  {
   "cell_type": "markdown",
   "id": "1d82494a",
   "metadata": {},
   "source": [
    "**8. How many pizzas were delivered that had both exclusions and extras?**"
   ]
  },
  {
   "cell_type": "code",
   "execution_count": 29,
   "id": "aeb805a2",
   "metadata": {},
   "outputs": [
    {
     "name": "stdout",
     "output_type": "stream",
     "text": [
      "(8,)\n"
     ]
    }
   ],
   "source": [
    "cursor.execute('''SELECT COUNT(*) AS pizzas_with_changes\n",
    "FROM customer_orders\n",
    "WHERE exclusions IS NOT NULL AND extras IS NOT NULL;\n",
    "''')\n",
    "results = cursor.fetchall()\n",
    "for row in results:\n",
    "    print(row)"
   ]
  },
  {
   "cell_type": "markdown",
   "id": "61cc4de6",
   "metadata": {},
   "source": [
    "**9. What was the total volume of pizzas ordered for each hour of the day?**"
   ]
  },
  {
   "cell_type": "code",
   "execution_count": 30,
   "id": "819debcb",
   "metadata": {},
   "outputs": [
    {
     "name": "stdout",
     "output_type": "stream",
     "text": [
      "(11, 1)\n",
      "(13, 3)\n",
      "(18, 3)\n",
      "(19, 1)\n",
      "(21, 3)\n",
      "(23, 3)\n"
     ]
    }
   ],
   "source": [
    "cursor.execute('''SELECT\n",
    "    HOUR(order_time) AS hour_of_day,\n",
    "    COUNT(*) AS total_pizzas_ordered\n",
    "FROM customer_orders\n",
    "GROUP BY hour_of_day\n",
    "ORDER BY hour_of_day;\n",
    "''')\n",
    "results = cursor.fetchall()\n",
    "for row in results:\n",
    "    print(row)"
   ]
  },
  {
   "cell_type": "markdown",
   "id": "4b0ee8dc",
   "metadata": {},
   "source": [
    "**10. What was the volume of orders for each day of the week?**"
   ]
  },
  {
   "cell_type": "code",
   "execution_count": 31,
   "id": "e8b0a150",
   "metadata": {},
   "outputs": [
    {
     "name": "stdout",
     "output_type": "stream",
     "text": [
      "(1, 1)\n",
      "(2, 5)\n",
      "(6, 5)\n",
      "(7, 3)\n"
     ]
    }
   ],
   "source": [
    "cursor.execute('''SELECT\n",
    "    DAYOFWEEK(order_time) AS day_of_week,\n",
    "    COUNT(*) AS total_orders\n",
    "FROM customer_orders\n",
    "GROUP BY day_of_week\n",
    "ORDER BY day_of_week;\n",
    "''')\n",
    "results = cursor.fetchall()\n",
    "for row in results:\n",
    "    print(row)"
   ]
  },
  {
   "cell_type": "markdown",
   "id": "1e8a63a1",
   "metadata": {},
   "source": [
    "## B. Runner and Customer Experience"
   ]
  },
  {
   "cell_type": "markdown",
   "id": "a563bda7",
   "metadata": {},
   "source": [
    "**1. How many runners signed up for each 1 week period?**"
   ]
  },
  {
   "cell_type": "code",
   "execution_count": 33,
   "id": "d3ede810",
   "metadata": {},
   "outputs": [
    {
     "name": "stdout",
     "output_type": "stream",
     "text": [
      "(0, 1)\n",
      "(1, 2)\n",
      "(2, 1)\n"
     ]
    }
   ],
   "source": [
    "cursor.execute('''SELECT Week(registration_date) AS signup_week, COUNT(*) AS num_runners\n",
    "FROM runners\n",
    "GROUP BY signup_week\n",
    "ORDER BY signup_week;\n",
    "''')\n",
    "results = cursor.fetchall()\n",
    "for row in results:\n",
    "    print(row)"
   ]
  },
  {
   "cell_type": "markdown",
   "id": "1796a946",
   "metadata": {},
   "source": [
    "**2. What was the average time in minutes it took for each runner to arrive at the Pizza Runner HQ to pickup the order?**"
   ]
  },
  {
   "cell_type": "code",
   "execution_count": 35,
   "id": "844fbe4f",
   "metadata": {},
   "outputs": [
    {
     "name": "stdout",
     "output_type": "stream",
     "text": [
      "(1, 20.0)\n",
      "(2, 40.0)\n",
      "(3, 15.0)\n"
     ]
    }
   ],
   "source": [
    "cursor.execute('''SELECT runner_id, AVG(duration) AS avg_pickup_time_minutes\n",
    "FROM runner_orders\n",
    "WHERE cancellation IS NULL\n",
    "GROUP BY runner_id;\n",
    "''')\n",
    "results = cursor.fetchall()\n",
    "for row in results:\n",
    "    print(row)"
   ]
  },
  {
   "cell_type": "markdown",
   "id": "46fa9ea8",
   "metadata": {},
   "source": [
    "**3. Is there any relationship between the number of pizzas and how long the order takes to prepare?**"
   ]
  },
  {
   "cell_type": "code",
   "execution_count": 44,
   "id": "33604e38",
   "metadata": {},
   "outputs": [
    {
     "name": "stdout",
     "output_type": "stream",
     "text": [
      "(6, 1750.0)\n"
     ]
    }
   ],
   "source": [
    "cursor.execute('''SELECT COUNT(co.order_id) AS num_pizzas, \n",
    "                         AVG(ro.duration * 60) AS avg_duration_seconds\n",
    "FROM customer_orders co\n",
    "JOIN runner_orders ro ON co.order_id = ro.order_id\n",
    "WHERE ro.cancellation IS NULL\n",
    "\n",
    "''')\n",
    "results = cursor.fetchall()\n",
    "for row in results:\n",
    "    print(row)"
   ]
  },
  {
   "cell_type": "markdown",
   "id": "787c1152",
   "metadata": {},
   "source": [
    "**4. What was the average distance travelled for each customer?**"
   ]
  },
  {
   "cell_type": "code",
   "execution_count": 47,
   "id": "414971df",
   "metadata": {},
   "outputs": [
    {
     "name": "stdout",
     "output_type": "stream",
     "text": [
      "(102, 13.4)\n",
      "(103, 23.4)\n",
      "(104, 10.0)\n"
     ]
    }
   ],
   "source": [
    "cursor.execute('''SELECT co.customer_id, ROUND(AVG(distance), 2) AS avg_distance\n",
    "FROM customer_orders co\n",
    "JOIN runner_orders ro ON co.order_id = ro.order_id\n",
    "WHERE ro.cancellation IS NULL\n",
    "GROUP BY co.customer_id;\n",
    "''')\n",
    "results = cursor.fetchall()\n",
    "for row in results:\n",
    "    print(row)"
   ]
  },
  {
   "cell_type": "markdown",
   "id": "b9decb35",
   "metadata": {},
   "source": [
    "**5. What was the difference between the longest and shortest delivery times for all orders?**"
   ]
  },
  {
   "cell_type": "code",
   "execution_count": 51,
   "id": "c0775332",
   "metadata": {},
   "outputs": [
    {
     "name": "stdout",
     "output_type": "stream",
     "text": [
      "(25.0,)\n"
     ]
    }
   ],
   "source": [
    "cursor.execute('''SELECT MAX(duration) - MIN(duration) AS time_difference_seconds\n",
    "FROM runner_orders\n",
    "WHERE cancellation IS NULL;\n",
    "''')\n",
    "results = cursor.fetchall()\n",
    "for row in results:\n",
    "    print(row)"
   ]
  },
  {
   "cell_type": "markdown",
   "id": "801b4b1f",
   "metadata": {},
   "source": [
    "**6. What was the average speed for each runner for each delivery, and do you notice any trend for these values?**"
   ]
  },
  {
   "cell_type": "code",
   "execution_count": 54,
   "id": "53a25be6",
   "metadata": {},
   "outputs": [
    {
     "name": "stdout",
     "output_type": "stream",
     "text": [
      "(1, 0.67)\n",
      "(2, 0.58)\n",
      "(3, 0.67)\n"
     ]
    }
   ],
   "source": [
    "cursor.execute('''SELECT runner_id, ROUND(AVG(distance) / AVG(duration),2) AS avg_speed\n",
    "FROM runner_orders\n",
    "WHERE cancellation IS NULL\n",
    "GROUP BY runner_id;\n",
    "''')\n",
    "results = cursor.fetchall()\n",
    "for row in results:\n",
    "    print(row)"
   ]
  },
  {
   "cell_type": "markdown",
   "id": "1d607fbe",
   "metadata": {},
   "source": [
    "**7. What is the successful delivery percentage for each runner?**"
   ]
  },
  {
   "cell_type": "code",
   "execution_count": 56,
   "id": "17c83d9d",
   "metadata": {},
   "outputs": [
    {
     "name": "stdout",
     "output_type": "stream",
     "text": [
      "1 4 1 25.0\n",
      "2 4 1 25.0\n",
      "3 2 1 50.0\n"
     ]
    }
   ],
   "source": [
    "cursor.execute('''SELECT runner_id,\n",
    "       COUNT(DISTINCT order_id) AS total_successful_deliveries,\n",
    "       COUNT(DISTINCT CASE WHEN cancellation IS NULL THEN order_id END) AS successful_deliveries,\n",
    "       ROUND(COUNT(DISTINCT CASE WHEN cancellation IS NULL THEN order_id END) * 100.0 / COUNT(DISTINCT order_id), 2) AS delivery_percentage\n",
    "FROM runner_orders\n",
    "GROUP BY runner_id;\n",
    "''')\n",
    "results = cursor.fetchall()\n",
    "for row in results:\n",
    "    runner_id, total_successful_deliveries, successful_deliveries, delivery_percentage=row\n",
    "    delivery_percentage=float(delivery_percentage)\n",
    "    print(runner_id, total_successful_deliveries, successful_deliveries, delivery_percentage) "
   ]
  }
 ],
 "metadata": {
  "kernelspec": {
   "display_name": "Python 3 (ipykernel)",
   "language": "python",
   "name": "python3"
  },
  "language_info": {
   "codemirror_mode": {
    "name": "ipython",
    "version": 3
   },
   "file_extension": ".py",
   "mimetype": "text/x-python",
   "name": "python",
   "nbconvert_exporter": "python",
   "pygments_lexer": "ipython3",
   "version": "3.10.9"
  }
 },
 "nbformat": 4,
 "nbformat_minor": 5
}
