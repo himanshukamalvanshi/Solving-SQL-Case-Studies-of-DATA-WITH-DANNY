{
 "cells": [
  {
   "cell_type": "markdown",
   "id": "22822326",
   "metadata": {},
   "source": [
    "#  Introduction"
   ]
  },
  {
   "cell_type": "markdown",
   "id": "78136ebb",
   "metadata": {},
   "source": [
    "Danny seriously loves Japanese food so in the beginning of 2021, he decides to embark upon a risky venture and opens up a cute little restaurant that sells his 3 favourite foods: sushi, curry and ramen.\n",
    "\n",
    "Danny’s Diner is in need of your assistance to help the restaurant stay afloat - the restaurant has captured some very basic data from their few months of operation but have no idea how to use their data to help them run the business."
   ]
  },
  {
   "cell_type": "markdown",
   "id": "0b4f2fd0",
   "metadata": {},
   "source": [
    "# Problem Statement"
   ]
  },
  {
   "cell_type": "markdown",
   "id": "62c6b3aa",
   "metadata": {},
   "source": [
    "Danny wants to use the data to answer a few simple questions about his customers, especially about their visiting patterns, how much money they’ve spent and also which menu items are their favourite. Having this deeper connection with his customers will help him deliver a better and more personalised experience for his loyal customers.\n",
    "\n",
    "He plans on using these insights to help him decide whether he should expand the existing customer loyalty program - additionally he needs help to generate some basic datasets so his team can easily inspect the data without needing to use SQL.\n",
    "\n",
    "Danny has provided you with a sample of his overall customer data due to privacy issues - but he hopes that these examples are enough for you to write fully functioning SQL queries to help him answer his questions!\n",
    "\n",
    "Danny has shared with you 3 key datasets for this case study:\n",
    "\n",
    "* **sales**\n",
    "* **menu**\n",
    "* **members**"
   ]
  },
  {
   "cell_type": "markdown",
   "id": "2cc235a5",
   "metadata": {},
   "source": [
    "# Table 1: sales"
   ]
  },
  {
   "cell_type": "markdown",
   "id": "509d13b2",
   "metadata": {},
   "source": [
    "The sales table captures all customer_id level purchases with an corresponding order_date and product_id information for when and what menu items were ordered.\n",
    "\n",
    "\n",
    "| customer_id | order_date  | product_id |\n",
    "|-------------|-------------|------------|\n",
    "| A           | 2021-01-01  | 1          |\n",
    "| A           | 2021-01-01  | 2          |\n",
    "| A           | 2021-01-07  | 2          |\n",
    "| A           | 2021-01-10  | 3          |\n",
    "| A           | 2021-01-11  | 3          |\n",
    "| A           | 2021-01-11  | 3          |\n",
    "| B           | 2021-01-01  | 2          |\n",
    "| B           | 2021-01-02  | 2          |\n",
    "| B           | 2021-01-04  | 1          |\n",
    "| B           | 2021-01-11  | 1          |\n",
    "| B           | 2021-01-16  | 3          |\n",
    "| B           | 2021-02-01  | 3          |\n",
    "| C           | 2021-01-01  | 3          |\n",
    "| C           | 2021-01-01  | 3          |\n",
    "| C           | 2021-01-07  | 3          |\n"
   ]
  },
  {
   "cell_type": "markdown",
   "id": "fd110aa9",
   "metadata": {},
   "source": [
    "# Table 2: menu"
   ]
  },
  {
   "cell_type": "markdown",
   "id": "6525e87e",
   "metadata": {},
   "source": [
    "The menu table maps the product_id to the actual product_name and price of each menu item.\n",
    "\n",
    "| product_id | product_name | price |\n",
    "|------------|--------------|-------|\n",
    "| 1          | sushi        | 10    |\n",
    "| 2          | curry        | 15    |\n",
    "| 3          | ramen        | 12    |\n"
   ]
  },
  {
   "cell_type": "markdown",
   "id": "c40d5743",
   "metadata": {},
   "source": [
    "# Table 3: members"
   ]
  },
  {
   "cell_type": "markdown",
   "id": "4391995a",
   "metadata": {},
   "source": [
    "The final members table captures the join_date when a customer_id joined the beta version of the Danny’s Diner loyalty program.\n",
    "| customer_id | join_date  |\n",
    "|-------------|------------|\n",
    "| A           | 2021-01-07 |\n",
    "| B           | 2021-01-09 |\n"
   ]
  },
  {
   "cell_type": "markdown",
   "id": "eb6e6edf",
   "metadata": {},
   "source": [
    "## Importing the Database in MySQL"
   ]
  },
  {
   "cell_type": "code",
   "execution_count": 2,
   "id": "f69743e0",
   "metadata": {},
   "outputs": [],
   "source": [
    "import mysql.connector\n",
    "from mysql.connector import errorcode"
   ]
  },
  {
   "cell_type": "code",
   "execution_count": 3,
   "id": "483fd911",
   "metadata": {
    "scrolled": true
   },
   "outputs": [
    {
     "name": "stdout",
     "output_type": "stream",
     "text": [
      "Requirement already satisfied: mysql-connector-python in c:\\users\\kamal\\anaconda3\\lib\\site-packages (8.0.33)\n",
      "Requirement already satisfied: protobuf<=3.20.3,>=3.11.0 in c:\\users\\kamal\\anaconda3\\lib\\site-packages (from mysql-connector-python) (3.20.3)\n",
      "Note: you may need to restart the kernel to use updated packages.\n"
     ]
    }
   ],
   "source": [
    "pip install mysql-connector-python"
   ]
  },
  {
   "cell_type": "code",
   "execution_count": 17,
   "id": "ae5d8880",
   "metadata": {},
   "outputs": [],
   "source": [
    "mydb= mysql.connector.connect(host='localhost',user=\"root\", password=\"Abcd@1234\")\n",
    "cursor=mydb.cursor()\n"
   ]
  },
  {
   "cell_type": "code",
   "execution_count": 56,
   "id": "69b00e14",
   "metadata": {},
   "outputs": [],
   "source": [
    "if mydb.is_connected():\n",
    "    print('yes')"
   ]
  },
  {
   "cell_type": "code",
   "execution_count": 19,
   "id": "f2f9e6c0",
   "metadata": {},
   "outputs": [],
   "source": [
    "  # Create Database\n",
    "query ='''CREATE DATABASE IF NOT EXISTS dannys_diner;\n",
    "USE dannys_diner;\n",
    "\n",
    "CREATE TABLE sales (\n",
    "  customer_id VARCHAR(1),\n",
    "  order_date DATE,\n",
    "  product_id INT\n",
    ");\n",
    "\n",
    "INSERT INTO sales\n",
    "  (customer_id, order_date, product_id)\n",
    "VALUES\n",
    "  ('A', '2021-01-01', 1),\n",
    "  ('A', '2021-01-01', 2),\n",
    "  ('A', '2021-01-07', 2),\n",
    "  ('A', '2021-01-10', 3),\n",
    "  ('A', '2021-01-11', 3),\n",
    "  ('A', '2021-01-11', 3),\n",
    "  ('B', '2021-01-01', 2),\n",
    "  ('B', '2021-01-02', 2),\n",
    "  ('B', '2021-01-04', 1),\n",
    "  ('B', '2021-01-11', 1),\n",
    "  ('B', '2021-01-16', 3),\n",
    "  ('B', '2021-02-01', 3),\n",
    "  ('C', '2021-01-01', 3),\n",
    "  ('C', '2021-01-01', 3),\n",
    "  ('C', '2021-01-07', 3);\n",
    "\n",
    "CREATE TABLE menu (\n",
    "  product_id INT,\n",
    "  product_name VARCHAR(5),\n",
    "  price INT\n",
    ");\n",
    "\n",
    "INSERT INTO menu\n",
    "  (product_id, product_name, price)\n",
    "VALUES\n",
    "  (1, 'sushi', 10),\n",
    "  (2, 'curry', 15),\n",
    "  (3, 'ramen', 12);\n",
    "\n",
    "CREATE TABLE members (\n",
    "  customer_id VARCHAR(1),\n",
    "  join_date DATE\n",
    ");\n",
    "\n",
    "INSERT INTO members\n",
    "  (customer_id, join_date)\n",
    "VALUES\n",
    "  ('A', '2021-01-07'),\n",
    "  ('B', '2021-01-09');\n",
    "'''\n",
    "cursor.execute(query)\n",
    "cursor.close()\n",
    "mydb.close()"
   ]
  },
  {
   "cell_type": "markdown",
   "id": "9e2a8c6c",
   "metadata": {},
   "source": [
    "# CASE STUDY PROBLEMS"
   ]
  },
  {
   "cell_type": "code",
   "execution_count": 20,
   "id": "b0b75f0e",
   "metadata": {},
   "outputs": [],
   "source": [
    "if mydb.is_connected():\n",
    "    print('yes')\n",
    "else:\n",
    "    mydb= mysql.connector.connect(host='localhost',user=\"root\", password=\"Abcd@1234\")\n",
    "    cursor=mydb.cursor()"
   ]
  },
  {
   "cell_type": "code",
   "execution_count": 21,
   "id": "d7371033",
   "metadata": {},
   "outputs": [
    {
     "name": "stdout",
     "output_type": "stream",
     "text": [
      "('A', datetime.date(2021, 1, 1), 1)\n",
      "('A', datetime.date(2021, 1, 1), 2)\n",
      "('A', datetime.date(2021, 1, 7), 2)\n",
      "('A', datetime.date(2021, 1, 10), 3)\n",
      "('A', datetime.date(2021, 1, 11), 3)\n",
      "('A', datetime.date(2021, 1, 11), 3)\n",
      "('B', datetime.date(2021, 1, 1), 2)\n",
      "('B', datetime.date(2021, 1, 2), 2)\n",
      "('B', datetime.date(2021, 1, 4), 1)\n",
      "('B', datetime.date(2021, 1, 11), 1)\n",
      "('B', datetime.date(2021, 1, 16), 3)\n",
      "('B', datetime.date(2021, 2, 1), 3)\n",
      "('C', datetime.date(2021, 1, 1), 3)\n",
      "('C', datetime.date(2021, 1, 1), 3)\n",
      "('C', datetime.date(2021, 1, 7), 3)\n"
     ]
    }
   ],
   "source": [
    "cursor.execute(\"USE dannys_diner\")\n",
    "query =\"SELECT * FROM sales\"\n",
    "cursor.execute(query)\n",
    "\n",
    "results = cursor.fetchall()\n",
    "for row in results:\n",
    "    print(row)\n"
   ]
  },
  {
   "cell_type": "markdown",
   "id": "d22ab44c",
   "metadata": {},
   "source": [
    "**1. What is the total amount each customer spent at the restaurant?**"
   ]
  },
  {
   "cell_type": "code",
   "execution_count": 9,
   "id": "2955a34c",
   "metadata": {},
   "outputs": [
    {
     "name": "stdout",
     "output_type": "stream",
     "text": [
      "A 76\n",
      "B 74\n",
      "C 36\n"
     ]
    }
   ],
   "source": [
    "cursor.execute(\n",
    "'''SELECT s.customer_id, \n",
    "          SUM(m.price) AS total_amount_spent\n",
    "   FROM sales s\n",
    "   JOIN menu m ON s.product_id = m.product_id\n",
    "   GROUP BY s.customer_id'''\n",
    ")\n",
    "results = cursor.fetchall()\n",
    "\n",
    "for row in results:\n",
    "    customer_id, total_amount_spent = row\n",
    "    total_amount_spent = int(total_amount_spent)  # Convert Decimal to float\n",
    "    print(customer_id, total_amount_spent)    "
   ]
  },
  {
   "cell_type": "markdown",
   "id": "777b973a",
   "metadata": {},
   "source": [
    "**2. How many days has each customer visited the restaurant?**"
   ]
  },
  {
   "cell_type": "code",
   "execution_count": 10,
   "id": "94641f99",
   "metadata": {},
   "outputs": [
    {
     "name": "stdout",
     "output_type": "stream",
     "text": [
      "A 4\n",
      "B 6\n",
      "C 2\n"
     ]
    }
   ],
   "source": [
    "cursor.execute('''SELECT customer_id,\n",
    "                         COUNT(DISTINCT order_date) AS days_visited\n",
    "                  FROM sales\n",
    "                  GROUP BY customer_id\n",
    "''')\n",
    "results = cursor.fetchall()\n",
    "\n",
    "for row in results:\n",
    "    customer_id, days_visited = row\n",
    "    days_visited = int(days_visited)  # Convert Decimal to float\n",
    "    print(customer_id, days_visited)"
   ]
  },
  {
   "cell_type": "markdown",
   "id": "817b0e7b",
   "metadata": {},
   "source": [
    "**3. What was the first item from the menu purchased by each customer?**\n"
   ]
  },
  {
   "cell_type": "code",
   "execution_count": 11,
   "id": "d8c4f284",
   "metadata": {},
   "outputs": [
    {
     "name": "stdout",
     "output_type": "stream",
     "text": [
      "('A', 'sushi')\n",
      "('B', 'sushi')\n",
      "('C', 'ramen')\n"
     ]
    }
   ],
   "source": [
    "cursor.execute('''\n",
    "WITH CTE AS \n",
    "(\n",
    " SELECT customer_id, \n",
    "        MIN(order_date) AS first_visit_date,\n",
    "        MIN(product_id) AS first_purchased_item_id\n",
    " FROM sales\n",
    " GROUP BY customer_id\n",
    " )\n",
    " \n",
    "SELECT customer_id,\n",
    "       m.product_name\n",
    "FROM cte \n",
    "JOIN menu m ON cte.first_purchased_item_id=m.product_id\n",
    "''')\n",
    "results = cursor.fetchall()\n",
    "    \n",
    "for row in results:\n",
    "    print(row)"
   ]
  },
  {
   "cell_type": "markdown",
   "id": "2bd73d57",
   "metadata": {},
   "source": [
    "**4. What is the most purchased item on the menu and how many times was it purchased by all customers?**"
   ]
  },
  {
   "cell_type": "code",
   "execution_count": 12,
   "id": "fbcca4a2",
   "metadata": {},
   "outputs": [
    {
     "name": "stdout",
     "output_type": "stream",
     "text": [
      "('ramen', 8)\n"
     ]
    }
   ],
   "source": [
    "cursor.execute('''\n",
    "WITH CTE AS\n",
    "(\n",
    " SELECT product_id, \n",
    "        COUNT(*) AS purchase_count\n",
    " FROM sales\n",
    " GROUP BY product_id\n",
    " ORDER BY purchase_count DESC\n",
    " LIMIT 1\n",
    " )\n",
    "\n",
    "SELECT m.product_name, \n",
    "       cte.purchase_count\n",
    "FROM cte \n",
    "JOIN menu m ON cte.product_id=m.product_id\n",
    "''')\n",
    "results = cursor.fetchall()\n",
    "    \n",
    "for row in results:\n",
    "    print(row)"
   ]
  },
  {
   "cell_type": "markdown",
   "id": "02df133c",
   "metadata": {},
   "source": [
    "**5. Which item was the most popular for each customer?**"
   ]
  },
  {
   "cell_type": "code",
   "execution_count": 13,
   "id": "3ceae46a",
   "metadata": {},
   "outputs": [
    {
     "name": "stdout",
     "output_type": "stream",
     "text": [
      "('A', 'ramen')\n",
      "('B', 'curry')\n",
      "('B', 'sushi')\n",
      "('B', 'ramen')\n",
      "('C', 'ramen')\n"
     ]
    }
   ],
   "source": [
    "cursor.execute('''\n",
    "WITH CTE AS (SELECT s.customer_id, \n",
    "                    m.product_name, \n",
    "                    COUNT(*) AS purchase_count\n",
    "FROM sales s\n",
    "JOIN menu m ON s.product_id = m.product_id\n",
    "GROUP BY s.customer_id, s.product_id, m.product_name\n",
    "ORDER BY customer_id, purchase_count desc)\n",
    "\n",
    "SELECT customer_id, \n",
    "       product_name\n",
    "FROM \n",
    "(\n",
    " SELECT customer_id, product_name, dense_rank() over(partition by customer_id order by purchase_count desc) as rnk\n",
    " FROM CTE\n",
    " ) t\n",
    "WHERE rnk= 1\n",
    "\n",
    "\n",
    "''')\n",
    "results = cursor.fetchall()\n",
    "    \n",
    "for row in results:\n",
    "    print(row)"
   ]
  },
  {
   "cell_type": "markdown",
   "id": "3e5a9d86",
   "metadata": {},
   "source": [
    "'B' did not have any favourites here."
   ]
  },
  {
   "cell_type": "markdown",
   "id": "e19680a3",
   "metadata": {},
   "source": [
    "**6.Which item was purchased first by the customer after they became a member?**"
   ]
  },
  {
   "cell_type": "code",
   "execution_count": 22,
   "id": "1b602206",
   "metadata": {},
   "outputs": [
    {
     "name": "stdout",
     "output_type": "stream",
     "text": [
      "('A', 'curry')\n",
      "('B', 'sushi')\n"
     ]
    }
   ],
   "source": [
    "cursor.execute('''WITH CTE AS(\n",
    "                                SELECT m.customer_id,\n",
    "                                       u.product_name, \n",
    "                                       dense_rank() OVER(PARTITION BY m.customer_id Order BY s.order_date) as rnk\n",
    "                                FROM sales s\n",
    "                                JOIN members m ON s.customer_id = m.customer_id JOIN menu u ON s.product_id=u.product_id\n",
    "                                WHERE s.order_date >= m.join_date \n",
    "                                )\n",
    "\n",
    "                  SELECT customer_id,product_name\n",
    "                  FROM CTE\n",
    "                  WHERE rnk=1\n",
    "                ''')\n",
    "results = cursor.fetchall()\n",
    "    \n",
    "for row in results:\n",
    "    print(row)"
   ]
  },
  {
   "cell_type": "markdown",
   "id": "a3c03f45",
   "metadata": {},
   "source": [
    "**7. Which item was purchased just before the customer became a member?**"
   ]
  },
  {
   "cell_type": "code",
   "execution_count": 37,
   "id": "a358d8b3",
   "metadata": {},
   "outputs": [
    {
     "name": "stdout",
     "output_type": "stream",
     "text": [
      "('A', 1, 'sushi', datetime.date(2021, 1, 1), 1)\n",
      "('A', 2, 'curry', datetime.date(2021, 1, 1), 1)\n",
      "('B', 2, 'curry', datetime.date(2021, 1, 1), 1)\n"
     ]
    }
   ],
   "source": [
    "cursor.execute('''WITH CTE AS (\n",
    "                                SELECT m.customer_id, \n",
    "                                       s.product_id, \n",
    "                                       u.product_name, \n",
    "                                       s.order_date, \n",
    "                                       DENSE_RANK() OVER (PARTITION BY m.customer_id ORDER BY s.order_date) as rnk\n",
    "                                FROM sales s\n",
    "                                JOIN members m ON s.customer_id = m.customer_id JOIN menu u ON s.product_id=u.product_id\n",
    "                                WHERE s.order_date < m.join_date\n",
    "                                ORDER BY m.customer_id\n",
    "                                )\n",
    "\n",
    "                  SELECT *\n",
    "                  FROM CTE \n",
    "                  WHERE rnk=1\n",
    "\n",
    "                ''')\n",
    "results = cursor.fetchall()\n",
    "    \n",
    "for row in results:\n",
    "    print(row)"
   ]
  },
  {
   "cell_type": "markdown",
   "id": "bce01151",
   "metadata": {},
   "source": [
    "'A' ordered two items just before becoming a member"
   ]
  },
  {
   "cell_type": "markdown",
   "id": "b4072884",
   "metadata": {},
   "source": [
    "**8. What is the total items and amount spent for each member before they became a member?**"
   ]
  },
  {
   "cell_type": "code",
   "execution_count": 40,
   "id": "6150f485",
   "metadata": {},
   "outputs": [
    {
     "name": "stdout",
     "output_type": "stream",
     "text": [
      "A 2 25\n",
      "B 3 40\n"
     ]
    }
   ],
   "source": [
    "cursor.execute('''SELECT m.customer_id, \n",
    "                         COUNT(s.product_id) as total_items, \n",
    "                         SUM(menu.price) as total_amount_spent\n",
    "                  FROM sales s\n",
    "                  JOIN menu ON s.product_id = menu.product_id\n",
    "                  JOIN members m ON s.customer_id = m.customer_id\n",
    "                  WHERE s.order_date < m.join_date\n",
    "                  GROUP BY m.customer_id\n",
    "                  ORDER BY m.customer_id\n",
    "                ''')\n",
    "results = cursor.fetchall()\n",
    "    \n",
    "for row in results:\n",
    "    customer_id, total_items, total_amount_spent = row\n",
    "    total_amount_spent= int(total_amount_spent)  # Convert Decimal to float\n",
    "    print(customer_id, total_items, total_amount_spent)"
   ]
  },
  {
   "cell_type": "markdown",
   "id": "50aee386",
   "metadata": {},
   "source": [
    "**9. If each $1 spent equates to 10 points and sushi has a 2x points multiplier - how many points would each customer have?**"
   ]
  },
  {
   "cell_type": "code",
   "execution_count": 46,
   "id": "92257b96",
   "metadata": {},
   "outputs": [
    {
     "name": "stdout",
     "output_type": "stream",
     "text": [
      "A 860\n",
      "B 940\n",
      "C 360\n"
     ]
    }
   ],
   "source": [
    "cursor.execute('''SELECT s.customer_id,\n",
    "                         SUM(CASE WHEN m.product_name = 'sushi' THEN m.price * 20 ELSE m.price * 10 END) AS total_points\n",
    "                  FROM sales s\n",
    "                  JOIN menu m ON s.product_id = m.product_id\n",
    "                  GROUP BY s.customer_id;\n",
    "                ''')\n",
    "results = cursor.fetchall()\n",
    "    \n",
    "for row in results:\n",
    "    customer_id, total_points = row\n",
    "    total_points = int(total_points)  # Convert Decimal to float\n",
    "    print(customer_id, total_points)"
   ]
  },
  {
   "cell_type": "markdown",
   "id": "61bdf30f",
   "metadata": {},
   "source": [
    "**10. In the first week after a customer joins the program (including their join date) they earn 2x points on all items, not just sushi - how many points do customer A and B have at the end of January?**"
   ]
  },
  {
   "cell_type": "code",
   "execution_count": 53,
   "id": "88765bc0",
   "metadata": {},
   "outputs": [
    {
     "name": "stdout",
     "output_type": "stream",
     "text": [
      "A 1370\n",
      "B 820\n"
     ]
    }
   ],
   "source": [
    "cursor.execute('''WITH CTE AS (\n",
    "                              SELECT customer_id, \n",
    "                                     join_date,\n",
    "                                     join_date + 6 AS valid_date,\n",
    "                                     DATE_SUB(LAST_DAY('2021-01-31'), INTERVAL 1 DAY)  AS last_date\n",
    "                              FROM members\n",
    "                                )\n",
    "\n",
    "                    SELECT  s.customer_id, \n",
    "                            SUM(CASE\n",
    "                                    WHEN m.product_name = 'sushi' THEN 2 * 10 * m.price\n",
    "                                    WHEN s.order_date BETWEEN dates.join_date AND dates.valid_date THEN 2 * 10 * m.price\n",
    "                                    ELSE 10 * m.price \n",
    "                                    END\n",
    "                                )AS points\n",
    "                    FROM sales s\n",
    "                    JOIN CTE AS dates\n",
    "                    ON s.customer_id = dates.customer_id\n",
    "                    AND s.order_date <= dates.last_date\n",
    "                    JOIN menu m\n",
    "                    ON s.product_id = m.product_id\n",
    "                    GROUP BY s.customer_id \n",
    "                    ORDER BY s.customer_id\n",
    "''')\n",
    "results = cursor.fetchall()\n",
    "    \n",
    "for row in results:\n",
    "    customer_id, points = row\n",
    "    points = int(points)  # Convert Decimal to float\n",
    "    print(customer_id, points)"
   ]
  },
  {
   "cell_type": "code",
   "execution_count": 55,
   "id": "d680b79d",
   "metadata": {},
   "outputs": [],
   "source": [
    "cursor.close()\n",
    "mydb.close()\n",
    "mydb.commit()"
   ]
  },
  {
   "cell_type": "code",
   "execution_count": null,
   "id": "a5220e73",
   "metadata": {},
   "outputs": [],
   "source": []
  }
 ],
 "metadata": {
  "kernelspec": {
   "display_name": "Python 3 (ipykernel)",
   "language": "python",
   "name": "python3"
  },
  "language_info": {
   "codemirror_mode": {
    "name": "ipython",
    "version": 3
   },
   "file_extension": ".py",
   "mimetype": "text/x-python",
   "name": "python",
   "nbconvert_exporter": "python",
   "pygments_lexer": "ipython3",
   "version": "3.10.9"
  }
 },
 "nbformat": 4,
 "nbformat_minor": 5
}
